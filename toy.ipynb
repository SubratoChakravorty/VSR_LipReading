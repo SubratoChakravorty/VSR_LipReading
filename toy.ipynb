{
 "cells": [
  {
   "cell_type": "code",
   "execution_count": 1,
   "metadata": {
    "scrolled": true
   },
   "outputs": [],
   "source": [
    "import matplotlib.pyplot as plt\n",
    "import matplotlib \n",
    "import numpy as np\n",
    "\n",
    "matplotlib.use(\"Agg\")\n",
    "import pandas as pd\n",
    "import glob, cv2\n",
    "\n",
    "home='/home/ecvol/data/lipread/gridcorpus/'\n",
    "file1 = 'pwbkzn'\n",
    "im1 = glob.glob('/home/ecvol/data/lipread/gridcorpus/video/s1/'+file1+'/*')"
   ]
  },
  {
   "cell_type": "markdown",
   "metadata": {},
   "source": [
    "### read align file (GT)"
   ]
  },
  {
   "cell_type": "code",
   "execution_count": 9,
   "metadata": {},
   "outputs": [
    {
     "data": {
      "text/html": [
       "<div>\n",
       "<style scoped>\n",
       "    .dataframe tbody tr th:only-of-type {\n",
       "        vertical-align: middle;\n",
       "    }\n",
       "\n",
       "    .dataframe tbody tr th {\n",
       "        vertical-align: top;\n",
       "    }\n",
       "\n",
       "    .dataframe thead th {\n",
       "        text-align: right;\n",
       "    }\n",
       "</style>\n",
       "<table border=\"1\" class=\"dataframe\">\n",
       "  <thead>\n",
       "    <tr style=\"text-align: right;\">\n",
       "      <th></th>\n",
       "      <th>start</th>\n",
       "      <th>end</th>\n",
       "      <th>gt</th>\n",
       "    </tr>\n",
       "  </thead>\n",
       "  <tbody>\n",
       "    <tr>\n",
       "      <th>0</th>\n",
       "      <td>0</td>\n",
       "      <td>14</td>\n",
       "      <td>sil</td>\n",
       "    </tr>\n",
       "    <tr>\n",
       "      <th>1</th>\n",
       "      <td>14</td>\n",
       "      <td>22</td>\n",
       "      <td>place</td>\n",
       "    </tr>\n",
       "    <tr>\n",
       "      <th>2</th>\n",
       "      <td>22</td>\n",
       "      <td>28</td>\n",
       "      <td>white</td>\n",
       "    </tr>\n",
       "    <tr>\n",
       "      <th>3</th>\n",
       "      <td>28</td>\n",
       "      <td>31</td>\n",
       "      <td>by</td>\n",
       "    </tr>\n",
       "    <tr>\n",
       "      <th>4</th>\n",
       "      <td>31</td>\n",
       "      <td>36</td>\n",
       "      <td>k</td>\n",
       "    </tr>\n",
       "    <tr>\n",
       "      <th>5</th>\n",
       "      <td>36</td>\n",
       "      <td>46</td>\n",
       "      <td>zero</td>\n",
       "    </tr>\n",
       "    <tr>\n",
       "      <th>6</th>\n",
       "      <td>46</td>\n",
       "      <td>54</td>\n",
       "      <td>now</td>\n",
       "    </tr>\n",
       "    <tr>\n",
       "      <th>7</th>\n",
       "      <td>54</td>\n",
       "      <td>74</td>\n",
       "      <td>sil</td>\n",
       "    </tr>\n",
       "  </tbody>\n",
       "</table>\n",
       "</div>"
      ],
      "text/plain": [
       "   start  end     gt\n",
       "0      0   14    sil\n",
       "1     14   22  place\n",
       "2     22   28  white\n",
       "3     28   31     by\n",
       "4     31   36      k\n",
       "5     36   46   zero\n",
       "6     46   54    now\n",
       "7     54   74    sil"
      ]
     },
     "execution_count": 9,
     "metadata": {},
     "output_type": "execute_result"
    }
   ],
   "source": [
    "gt = pd.read_csv(home+'align/'+file1+'.align', sep=' ', header=None)\n",
    "gt[1] = (gt[1]/1000).astype('uint8')\n",
    "gt[0] = (gt[0]/1000).astype('uint8')\n",
    "gt = gt.rename(columns={0:'start', 1:'end', 2:'gt'})\n",
    "gt #start and end refer to frame indices"
   ]
  },
  {
   "cell_type": "markdown",
   "metadata": {},
   "source": [
    "### generate input"
   ]
  },
  {
   "cell_type": "code",
   "execution_count": 10,
   "metadata": {},
   "outputs": [
    {
     "name": "stdout",
     "output_type": "stream",
     "text": [
      "(1, 5000, 14)\n",
      "(1, 5000, 8)\n",
      "(1, 5000, 6)\n",
      "(1, 5000, 3)\n",
      "(1, 5000, 5)\n",
      "(1, 5000, 10)\n",
      "(1, 5000, 8)\n",
      "(1, 5000, 20)\n"
     ]
    }
   ],
   "source": [
    "x = np.zeros((8,5000,20)) #make sure all tensors are same length (0 padded)\n",
    "\n",
    "for row in gt.index:\n",
    "    frames = gt.iloc[row][:2]\n",
    "    temp=[]\n",
    "    for i in range(frames[0], frames[1]):\n",
    "        # TCN expects flattened input\n",
    "        temp.append(np.expand_dims(cv2.imread(im1[i], 0).flatten(), -1).astype('uint8'))\n",
    "    val =(np.expand_dims(np.concatenate(temp, -1), 0))\n",
    "    print(val.shape)  #notice that the last axis corresponds to length of time in gt\n",
    "    x[row,...,:val.shape[-1]]=val # add to 0 padded yensor\n",
    "    \n",
    "y = np.array([0,1,2,3,4,5,6,0])"
   ]
  },
  {
   "cell_type": "code",
   "execution_count": 4,
   "metadata": {},
   "outputs": [
    {
     "data": {
      "text/plain": [
       "((8, 20, 5000), dtype('int64'))"
      ]
     },
     "execution_count": 4,
     "metadata": {},
     "output_type": "execute_result"
    }
   ],
   "source": [
    "x=np.moveaxis(x, -1, 1)\n",
    "x.shape, y.dtype"
   ]
  },
  {
   "cell_type": "code",
   "execution_count": 11,
   "metadata": {},
   "outputs": [],
   "source": [
    "from keras.utils import to_categorical\n",
    "y = to_categorical(y) #this is very naive (1-hot), we need to do a better representation here, maybe BERT!!! "
   ]
  },
  {
   "cell_type": "code",
   "execution_count": 6,
   "metadata": {},
   "outputs": [
    {
     "data": {
      "text/plain": [
       "(0      sil\n",
       " 1    place\n",
       " 2    white\n",
       " 3       by\n",
       " 4        k\n",
       " 5     zero\n",
       " 6      now\n",
       " 7      sil\n",
       " Name: 2, dtype: object,\n",
       " array([[1., 0., 0., 0., 0., 0., 0.],\n",
       "        [0., 1., 0., 0., 0., 0., 0.],\n",
       "        [0., 0., 1., 0., 0., 0., 0.],\n",
       "        [0., 0., 0., 1., 0., 0., 0.],\n",
       "        [0., 0., 0., 0., 1., 0., 0.],\n",
       "        [0., 0., 0., 0., 0., 1., 0.],\n",
       "        [0., 0., 0., 0., 0., 0., 1.],\n",
       "        [1., 0., 0., 0., 0., 0., 0.]], dtype=float32))"
      ]
     },
     "execution_count": 6,
     "metadata": {},
     "output_type": "execute_result"
    }
   ],
   "source": [
    "gt[2], y "
   ]
  },
  {
   "cell_type": "code",
   "execution_count": 6,
   "metadata": {},
   "outputs": [
    {
     "name": "stdout",
     "output_type": "stream",
     "text": [
      "Model: \"model_1\"\n",
      "_________________________________________________________________\n",
      "Layer (type)                 Output Shape              Param #   \n",
      "=================================================================\n",
      "input_2 (InputLayer)         [(None, 20, 5000)]        0         \n",
      "_________________________________________________________________\n",
      "residual_block_0 (ResidualBl [(None, 20, 64), (None, 2 1292480   \n",
      "_________________________________________________________________\n",
      "residual_block_1 (ResidualBl [(None, 20, 64), (None, 2 24704     \n",
      "_________________________________________________________________\n",
      "residual_block_2 (ResidualBl [(None, 20, 64), (None, 2 24704     \n",
      "_________________________________________________________________\n",
      "residual_block_3 (ResidualBl [(None, 20, 64), (None, 2 24704     \n",
      "_________________________________________________________________\n",
      "residual_block_4 (ResidualBl [(None, 20, 64), (None, 2 24704     \n",
      "_________________________________________________________________\n",
      "residual_block_5 (ResidualBl [(None, 20, 64), (None, 2 24704     \n",
      "_________________________________________________________________\n",
      "lambda_1 (Lambda)            (None, 64)                0         \n",
      "_________________________________________________________________\n",
      "dense_1 (Dense)              (None, 7)                 455       \n",
      "=================================================================\n",
      "Total params: 1,416,455\n",
      "Trainable params: 1,416,455\n",
      "Non-trainable params: 0\n",
      "_________________________________________________________________\n",
      "Train on 8 samples\n",
      "Epoch 1/100\n",
      "8/8 [==============================] - 3s 321ms/sample - loss: 494.1594\n",
      "Epoch 2/100\n",
      "8/8 [==============================] - 0s 2ms/sample - loss: 2623.3882\n",
      "Epoch 3/100\n",
      "8/8 [==============================] - 0s 1ms/sample - loss: 2303.6748\n",
      "Epoch 4/100\n",
      "8/8 [==============================] - 0s 1ms/sample - loss: 3204.5962\n",
      "Epoch 5/100\n",
      "8/8 [==============================] - 0s 1ms/sample - loss: 2255.4976\n",
      "Epoch 6/100\n",
      "8/8 [==============================] - 0s 2ms/sample - loss: 1492.1445\n",
      "Epoch 7/100\n",
      "8/8 [==============================] - 0s 2ms/sample - loss: 221.3611\n",
      "Epoch 8/100\n",
      "8/8 [==============================] - 0s 2ms/sample - loss: 795.8093\n",
      "Epoch 9/100\n",
      "8/8 [==============================] - 0s 2ms/sample - loss: 524.2468\n",
      "Epoch 10/100\n",
      "8/8 [==============================] - 0s 2ms/sample - loss: 454.9061\n",
      "Epoch 11/100\n",
      "8/8 [==============================] - 0s 1ms/sample - loss: 189.8577\n",
      "Epoch 12/100\n",
      "8/8 [==============================] - 0s 2ms/sample - loss: 124.6043\n",
      "Epoch 13/100\n",
      "8/8 [==============================] - 0s 2ms/sample - loss: 31.4834\n",
      "Epoch 14/100\n",
      "8/8 [==============================] - 0s 2ms/sample - loss: 593.4031\n",
      "Epoch 15/100\n",
      "8/8 [==============================] - 0s 2ms/sample - loss: 368.4360\n",
      "Epoch 16/100\n",
      "8/8 [==============================] - 0s 2ms/sample - loss: 78.9744\n",
      "Epoch 17/100\n",
      "8/8 [==============================] - 0s 1ms/sample - loss: 476.7427\n",
      "Epoch 18/100\n",
      "8/8 [==============================] - 0s 1ms/sample - loss: 538.7953\n",
      "Epoch 19/100\n",
      "8/8 [==============================] - 0s 2ms/sample - loss: 345.4407\n",
      "Epoch 20/100\n",
      "8/8 [==============================] - 0s 2ms/sample - loss: 5.7074\n",
      "Epoch 21/100\n",
      "8/8 [==============================] - 0s 2ms/sample - loss: 29.9678\n",
      "Epoch 22/100\n",
      "8/8 [==============================] - 0s 2ms/sample - loss: 217.1876\n",
      "Epoch 23/100\n",
      "8/8 [==============================] - 0s 2ms/sample - loss: 173.5980\n",
      "Epoch 24/100\n",
      "8/8 [==============================] - 0s 2ms/sample - loss: 230.6060\n",
      "Epoch 25/100\n",
      "8/8 [==============================] - 0s 2ms/sample - loss: 314.3865\n",
      "Epoch 26/100\n",
      "8/8 [==============================] - 0s 2ms/sample - loss: 255.8473\n",
      "Epoch 27/100\n",
      "8/8 [==============================] - 0s 2ms/sample - loss: 181.3190\n",
      "Epoch 28/100\n",
      "8/8 [==============================] - 0s 2ms/sample - loss: 127.7533\n",
      "Epoch 29/100\n",
      "8/8 [==============================] - 0s 2ms/sample - loss: 67.4423\n",
      "Epoch 30/100\n",
      "8/8 [==============================] - 0s 2ms/sample - loss: 34.4805\n",
      "Epoch 31/100\n",
      "8/8 [==============================] - 0s 2ms/sample - loss: 74.4451\n",
      "Epoch 32/100\n",
      "8/8 [==============================] - 0s 2ms/sample - loss: 16.8715\n",
      "Epoch 33/100\n",
      "8/8 [==============================] - 0s 2ms/sample - loss: 88.1011\n",
      "Epoch 34/100\n",
      "8/8 [==============================] - 0s 2ms/sample - loss: 8.7578\n",
      "Epoch 35/100\n",
      "8/8 [==============================] - 0s 2ms/sample - loss: 94.7382\n",
      "Epoch 36/100\n",
      "8/8 [==============================] - 0s 2ms/sample - loss: 2.0885\n",
      "Epoch 37/100\n",
      "8/8 [==============================] - 0s 2ms/sample - loss: 102.4528\n",
      "Epoch 38/100\n",
      "8/8 [==============================] - 0s 2ms/sample - loss: 1.8708\n",
      "Epoch 39/100\n",
      "8/8 [==============================] - 0s 2ms/sample - loss: 276.1667\n",
      "Epoch 40/100\n",
      "8/8 [==============================] - 0s 2ms/sample - loss: 329.4084\n",
      "Epoch 41/100\n",
      "8/8 [==============================] - 0s 2ms/sample - loss: 160.5245\n",
      "Epoch 42/100\n",
      "8/8 [==============================] - 0s 2ms/sample - loss: 164.3779\n",
      "Epoch 43/100\n",
      "8/8 [==============================] - 0s 2ms/sample - loss: 260.5284\n",
      "Epoch 44/100\n",
      "8/8 [==============================] - 0s 2ms/sample - loss: 155.4106\n",
      "Epoch 45/100\n",
      "8/8 [==============================] - 0s 2ms/sample - loss: 102.3861\n",
      "Epoch 46/100\n",
      "8/8 [==============================] - 0s 2ms/sample - loss: 160.7644\n",
      "Epoch 47/100\n",
      "8/8 [==============================] - 0s 2ms/sample - loss: 31.3173\n",
      "Epoch 48/100\n",
      "8/8 [==============================] - 0s 2ms/sample - loss: 237.8553\n",
      "Epoch 49/100\n",
      "8/8 [==============================] - 0s 2ms/sample - loss: 301.7738\n",
      "Epoch 50/100\n",
      "8/8 [==============================] - 0s 2ms/sample - loss: 188.1462\n",
      "Epoch 51/100\n",
      "8/8 [==============================] - 0s 2ms/sample - loss: 42.5332\n",
      "Epoch 52/100\n",
      "8/8 [==============================] - 0s 2ms/sample - loss: 99.4766\n",
      "Epoch 53/100\n",
      "8/8 [==============================] - 0s 2ms/sample - loss: 2.8562\n",
      "Epoch 54/100\n",
      "8/8 [==============================] - 0s 2ms/sample - loss: 205.5710\n",
      "Epoch 55/100\n",
      "8/8 [==============================] - 0s 2ms/sample - loss: 256.5241\n",
      "Epoch 56/100\n",
      "8/8 [==============================] - 0s 1ms/sample - loss: 167.5467\n",
      "Epoch 57/100\n",
      "8/8 [==============================] - 0s 2ms/sample - loss: 21.7850\n",
      "Epoch 58/100\n",
      "8/8 [==============================] - 0s 2ms/sample - loss: 66.2844\n",
      "Epoch 59/100\n",
      "8/8 [==============================] - 0s 1ms/sample - loss: 7.0576\n",
      "Epoch 60/100\n",
      "8/8 [==============================] - 0s 1ms/sample - loss: 31.1869\n",
      "Epoch 61/100\n",
      "8/8 [==============================] - 0s 2ms/sample - loss: 38.5911\n",
      "Epoch 62/100\n",
      "8/8 [==============================] - 0s 2ms/sample - loss: 0.0000e+00\n",
      "Epoch 63/100\n",
      "8/8 [==============================] - 0s 1ms/sample - loss: 41.7756\n",
      "Epoch 64/100\n",
      "8/8 [==============================] - 0s 1ms/sample - loss: 33.7155\n",
      "Epoch 65/100\n",
      "8/8 [==============================] - 0s 1ms/sample - loss: 1.0110\n",
      "Epoch 66/100\n",
      "8/8 [==============================] - 0s 2ms/sample - loss: 55.5098\n",
      "Epoch 67/100\n",
      "8/8 [==============================] - 0s 2ms/sample - loss: 7.1711\n",
      "Epoch 68/100\n",
      "8/8 [==============================] - 0s 2ms/sample - loss: 128.7589\n",
      "Epoch 69/100\n",
      "8/8 [==============================] - 0s 2ms/sample - loss: 151.1204\n",
      "Epoch 70/100\n",
      "8/8 [==============================] - 0s 2ms/sample - loss: 65.6570\n",
      "Epoch 71/100\n",
      "8/8 [==============================] - 0s 2ms/sample - loss: 92.6561\n",
      "Epoch 72/100\n",
      "8/8 [==============================] - 0s 2ms/sample - loss: 140.0404\n",
      "Epoch 73/100\n",
      "8/8 [==============================] - 0s 2ms/sample - loss: 84.7125\n",
      "Epoch 74/100\n",
      "8/8 [==============================] - 0s 2ms/sample - loss: 64.8647\n",
      "Epoch 75/100\n",
      "8/8 [==============================] - 0s 2ms/sample - loss: 103.0938\n",
      "Epoch 76/100\n",
      "8/8 [==============================] - 0s 2ms/sample - loss: 0.0000e+00\n",
      "Epoch 77/100\n",
      "8/8 [==============================] - 0s 2ms/sample - loss: 69.2813\n",
      "Epoch 78/100\n",
      "8/8 [==============================] - 0s 2ms/sample - loss: 45.2938\n",
      "Epoch 79/100\n",
      "8/8 [==============================] - 0s 2ms/sample - loss: 51.8703\n",
      "Epoch 80/100\n",
      "8/8 [==============================] - 0s 1ms/sample - loss: 64.1904\n",
      "Epoch 81/100\n",
      "8/8 [==============================] - 0s 2ms/sample - loss: 7.9780\n"
     ]
    },
    {
     "name": "stdout",
     "output_type": "stream",
     "text": [
      "Epoch 82/100\n",
      "8/8 [==============================] - 0s 1ms/sample - loss: 8.4777\n",
      "Epoch 83/100\n",
      "8/8 [==============================] - 0s 1ms/sample - loss: 66.0389\n",
      "Epoch 84/100\n",
      "8/8 [==============================] - 0s 1ms/sample - loss: 26.8152\n",
      "Epoch 85/100\n",
      "8/8 [==============================] - 0s 1ms/sample - loss: 101.1998\n",
      "Epoch 86/100\n",
      "8/8 [==============================] - 0s 2ms/sample - loss: 112.9935\n",
      "Epoch 87/100\n",
      "8/8 [==============================] - 0s 1ms/sample - loss: 16.0171\n",
      "Epoch 88/100\n",
      "8/8 [==============================] - 0s 2ms/sample - loss: 132.7286\n",
      "Epoch 89/100\n",
      "8/8 [==============================] - 0s 2ms/sample - loss: 172.8179\n",
      "Epoch 90/100\n",
      "8/8 [==============================] - 0s 2ms/sample - loss: 102.0841\n",
      "Epoch 91/100\n",
      "8/8 [==============================] - 0s 2ms/sample - loss: 34.5721\n",
      "Epoch 92/100\n",
      "8/8 [==============================] - 0s 2ms/sample - loss: 73.9891\n",
      "Epoch 93/100\n",
      "8/8 [==============================] - 0s 2ms/sample - loss: 13.5727\n",
      "Epoch 94/100\n",
      "8/8 [==============================] - 0s 2ms/sample - loss: 103.9391\n",
      "Epoch 95/100\n",
      "8/8 [==============================] - 0s 2ms/sample - loss: 131.7158\n",
      "Epoch 96/100\n",
      "8/8 [==============================] - 0s 2ms/sample - loss: 66.2515\n",
      "Epoch 97/100\n",
      "8/8 [==============================] - 0s 2ms/sample - loss: 50.3198\n",
      "Epoch 98/100\n",
      "8/8 [==============================] - 0s 2ms/sample - loss: 85.9330\n",
      "Epoch 99/100\n",
      "8/8 [==============================] - 0s 2ms/sample - loss: 30.7820\n",
      "Epoch 100/100\n",
      "8/8 [==============================] - 0s 2ms/sample - loss: 80.5948\n"
     ]
    },
    {
     "data": {
      "text/plain": [
       "<tensorflow.python.keras.callbacks.History at 0x7f9d3c6b32e8>"
      ]
     },
     "execution_count": 6,
     "metadata": {},
     "output_type": "execute_result"
    }
   ],
   "source": [
    "from tensorflow.keras.layers import Dense\n",
    "from tensorflow.keras import Input, Model\n",
    "\n",
    "from tcn import TCN, tcn_full_summary\n",
    "\n",
    "batch_size, timesteps, input_dim = None, 20, 5000\n",
    "\n",
    "#https://github.com/philipperemy/keras-tcn#why-temporal-convolutional-network\n",
    "\n",
    "i = Input((timesteps, input_dim))\n",
    "\n",
    "o = TCN(kernel_size=3, activation='relu',return_sequences=False)(i)  # The TCN layers are here.\n",
    "o = Dense(7, activation='softmax')(o)\n",
    "\n",
    "m = Model(inputs=[i], outputs=[o])\n",
    "m.compile(optimizer='adam', loss='categorical_crossentropy')\n",
    "\n",
    "tcn_full_summary(m, expand_residual_blocks=False)\n",
    "\n",
    "m.fit(x, y, epochs=100,batch_size=8)"
   ]
  },
  {
   "cell_type": "code",
   "execution_count": 10,
   "metadata": {},
   "outputs": [
    {
     "data": {
      "text/plain": [
       "array([[1., 0., 0., 0., 0., 0., 0.],\n",
       "       [0., 1., 0., 0., 0., 0., 0.],\n",
       "       [0., 0., 1., 0., 0., 0., 0.],\n",
       "       [0., 0., 0., 1., 0., 0., 0.],\n",
       "       [0., 0., 0., 0., 1., 0., 0.],\n",
       "       [0., 0., 0., 0., 0., 1., 0.],\n",
       "       [0., 1., 0., 0., 0., 0., 0.],\n",
       "       [1., 0., 0., 0., 0., 0., 0.]], dtype=float32)"
      ]
     },
     "execution_count": 10,
     "metadata": {},
     "output_type": "execute_result"
    }
   ],
   "source": [
    "m.predict(x)"
   ]
  },
  {
   "cell_type": "code",
   "execution_count": 11,
   "metadata": {},
   "outputs": [
    {
     "data": {
      "text/plain": [
       "array([[1., 0., 0., 0., 0., 0., 0.],\n",
       "       [0., 1., 0., 0., 0., 0., 0.],\n",
       "       [0., 0., 1., 0., 0., 0., 0.],\n",
       "       [0., 0., 0., 1., 0., 0., 0.],\n",
       "       [0., 0., 0., 0., 1., 0., 0.],\n",
       "       [0., 0., 0., 0., 0., 1., 0.],\n",
       "       [0., 0., 0., 0., 0., 0., 1.],\n",
       "       [1., 0., 0., 0., 0., 0., 0.]], dtype=float32)"
      ]
     },
     "execution_count": 11,
     "metadata": {},
     "output_type": "execute_result"
    }
   ],
   "source": [
    "y"
   ]
  },
  {
   "cell_type": "markdown",
   "metadata": {},
   "source": [
    "### Sanity check of frame extraction by reforming into video"
   ]
  },
  {
   "cell_type": "code",
   "execution_count": null,
   "metadata": {},
   "outputs": [],
   "source": [
    "file2 = 'sria6n'\n",
    "im2 = glob.glob('/home/ecvol/data/lipread/gridcorpus/video/s1/'+file2+'/*')\n",
    "frame = cv2.imread((im2[0]))\n",
    "height, width, layers = frame.shape\n",
    "\n",
    "video = cv2.VideoWriter('temp.avi', 0, 25, (width,height))\n",
    "\n",
    "for image in im2:\n",
    "    video.write(cv2.imread(image))\n",
    "\n",
    "cv2.destroyAllWindows()\n",
    "video.release()"
   ]
  },
  {
   "cell_type": "code",
   "execution_count": null,
   "metadata": {},
   "outputs": [],
   "source": []
  }
 ],
 "metadata": {
  "kernelspec": {
   "display_name": "Python 3",
   "language": "python",
   "name": "python3"
  },
  "language_info": {
   "codemirror_mode": {
    "name": "ipython",
    "version": 3
   },
   "file_extension": ".py",
   "mimetype": "text/x-python",
   "name": "python",
   "nbconvert_exporter": "python",
   "pygments_lexer": "ipython3",
   "version": "3.6.10"
  }
 },
 "nbformat": 4,
 "nbformat_minor": 4
}
